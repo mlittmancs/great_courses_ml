{
  "nbformat": 4,
  "nbformat_minor": 0,
  "metadata": {
    "kernelspec": {
      "display_name": "Python 3",
      "language": "python",
      "name": "python3"
    },
    "language_info": {
      "codemirror_mode": {
        "name": "ipython",
        "version": 3
      },
      "file_extension": ".py",
      "mimetype": "text/x-python",
      "name": "python",
      "nbconvert_exporter": "python",
      "pygments_lexer": "ipython3",
      "version": "3.6.8"
    },
    "colab": {
      "name": "L02.ipynb",
      "provenance": []
    }
  },
  "cells": [
    {
      "cell_type": "markdown",
      "metadata": {
        "id": "fvNbYpwLT1F7"
      },
      "source": [
        "Let's write a simple function to print \"hello!\" `x` times"
      ]
    },
    {
      "cell_type": "code",
      "metadata": {
        "id": "KYcxppRR5KWp"
      },
      "source": [
        "def helloworld(x):\n",
        "  for i in range(x):\n",
        "    print(\"hello, Brent!\")"
      ],
      "execution_count": 2,
      "outputs": []
    },
    {
      "cell_type": "markdown",
      "metadata": {
        "id": "Ku_mkV88T8xX"
      },
      "source": [
        "Here we'll print \"hello!\" 4 times"
      ]
    },
    {
      "cell_type": "code",
      "metadata": {
        "id": "_PSeUt9t5T54",
        "colab": {
          "base_uri": "https://localhost:8080/"
        },
        "outputId": "59a161a7-3134-44a5-f6bc-bb3d43397078"
      },
      "source": [
        "helloworld(4)"
      ],
      "execution_count": 3,
      "outputs": [
        {
          "output_type": "stream",
          "name": "stdout",
          "text": [
            "hello, Brent!\n",
            "hello, Brent!\n",
            "hello, Brent!\n",
            "hello, Brent!\n"
          ]
        }
      ]
    },
    {
      "cell_type": "markdown",
      "metadata": {
        "id": "PguHypYdUEpR"
      },
      "source": [
        "We can also perform simple arithmetic"
      ]
    },
    {
      "cell_type": "code",
      "metadata": {
        "id": "YXKQwhY6Fmsp",
        "colab": {
          "base_uri": "https://localhost:8080/",
          "height": 34
        },
        "outputId": "08566372-a88c-4f23-a2dc-00eed0af8cc4"
      },
      "source": [
        "4+5"
      ],
      "execution_count": null,
      "outputs": [
        {
          "output_type": "execute_result",
          "data": {
            "text/plain": [
              "9"
            ]
          },
          "metadata": {
            "tags": []
          },
          "execution_count": 3
        }
      ]
    },
    {
      "cell_type": "code",
      "metadata": {
        "id": "O9eaMfzEEJn3",
        "colab": {
          "base_uri": "https://localhost:8080/",
          "height": 629
        },
        "outputId": "a33a63ca-a400-4650-e26e-bddd8f0d7f4a"
      },
      "source": [
        "!wget https://raw.githubusercontent.com/mlittmancs/great_courses_ml/master/data/ascii.txt\n",
        "!cat ascii.txt"
      ],
      "execution_count": null,
      "outputs": [
        {
          "output_type": "stream",
          "text": [
            "--2020-08-17 18:28:28--  https://raw.githubusercontent.com/mlittmancs/great_courses_ml/master/ascii.txt\n",
            "Resolving raw.githubusercontent.com (raw.githubusercontent.com)... 151.101.0.133, 151.101.64.133, 151.101.128.133, ...\n",
            "Connecting to raw.githubusercontent.com (raw.githubusercontent.com)|151.101.0.133|:443... connected.\n",
            "HTTP request sent, awaiting response... 200 OK\n",
            "Length: 2025 (2.0K) [text/plain]\n",
            "Saving to: ‘ascii.txt’\n",
            "\n",
            "\rascii.txt             0%[                    ]       0  --.-KB/s               \rascii.txt           100%[===================>]   1.98K  --.-KB/s    in 0s      \n",
            "\n",
            "2020-08-17 18:28:28 (25.2 MB/s) - ‘ascii.txt’ saved [2025/2025]\n",
            "\n",
            "                                                                                \n",
            "                                                                                \n",
            "HHHHHHHHH     HHHHHHHHH                   lllllll lllllll                   !!! \n",
            "H:::::::H     H:::::::H                   l:::::l l:::::l                  !!:!!\n",
            "H:::::::H     H:::::::H                   l:::::l l:::::l                  !:::!\n",
            "HH::::::H     H::::::HH                   l:::::l l:::::l                  !:::!\n",
            "  H:::::H     H:::::H      eeeeeeeeeeee    l::::l  l::::l    ooooooooooo   !:::!\n",
            "  H:::::H     H:::::H    ee::::::::::::ee  l::::l  l::::l  oo:::::::::::oo !:::!\n",
            "  H::::::HHHHH::::::H   e::::::eeeee:::::eel::::l  l::::l o:::::::::::::::o!:::!\n",
            "  H:::::::::::::::::H  e::::::e     e:::::el::::l  l::::l o:::::ooooo:::::o!:::!\n",
            "  H:::::::::::::::::H  e:::::::eeeee::::::el::::l  l::::l o::::o     o::::o!:::!\n",
            "  H::::::HHHHH::::::H  e:::::::::::::::::e l::::l  l::::l o::::o     o::::o!:::!\n",
            "  H:::::H     H:::::H  e::::::eeeeeeeeeee  l::::l  l::::l o::::o     o::::o!!:!!\n",
            "  H:::::H     H:::::H  e:::::::e           l::::l  l::::l o::::o     o::::o !!! \n",
            "HH::::::H     H::::::HHe::::::::e         l::::::ll::::::lo:::::ooooo:::::o     \n",
            "H:::::::H     H:::::::H e::::::::eeeeeeee l::::::ll::::::lo:::::::::::::::o !!! \n",
            "H:::::::H     H:::::::H  ee:::::::::::::e l::::::ll::::::l oo:::::::::::oo !!:!!\n",
            "HHHHHHHHH     HHHHHHHHH    eeeeeeeeeeeeee llllllllllllllll   ooooooooooo    !!! \n",
            "                                                                                \n",
            "                                                                                \n",
            "                                                                                \n",
            "                                                                                \n",
            "                                                                                \n",
            "                                                                                \n",
            "                                                                                \n"
          ],
          "name": "stdout"
        }
      ]
    },
    {
      "cell_type": "code",
      "metadata": {
        "id": "fLvnv4lNEKgg",
        "colab": {
          "base_uri": "https://localhost:8080/",
          "height": 34
        },
        "outputId": "b37ffc0d-e21f-40d4-ce68-2e8e840dc1b8"
      },
      "source": [
        "print(\"hello!\")"
      ],
      "execution_count": null,
      "outputs": [
        {
          "output_type": "stream",
          "text": [
            "hello!\n"
          ],
          "name": "stdout"
        }
      ]
    }
  ]
}